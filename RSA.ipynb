{
 "cells": [
  {
   "cell_type": "markdown",
   "metadata": {},
   "source": [
    "# Introduction to RSA (Rivest, Shamir, Adleman)\n",
    "\n",
    "RSA is an encryption algorithm that uses number theoretic identities for asymmetrical encryption."
   ]
  },
  {
   "cell_type": "markdown",
   "metadata": {},
   "source": [
    "### Division Algorithm\n",
    "\n",
    "The basis for many algorithms in Number Theory is division with remainder.  For example, considering the number 53 and 8, division gives a **quotient** of 6 and a **remainder** of 5, which we express by\n",
    "$$ \n",
    "    53 = 6 \\cdot 8 + 5. \n",
    "$$\n",
    "For any two positive integers $a$ and $b$, there exists a unique quotient $q$ and remainder $r$ such that\n",
    "$$ \n",
    "    a = q \\cdot b + r\n",
    "    \\quad \\text{and} \\quad\n",
    "    0 \\le r < b. \n",
    "$$\n",
    "In other words, when we divide $a$ by $b$, we get a quotient $q$ and a remainder $r$ which is necessarily smaller than the divisor $b$.  If the remainder is equal to 0, then $a$ is divisible by $b$; equivalently, $b$ is a factor of $a$.\n",
    "\n",
    "In python 3, we compute the quotient $q$ and the remainder $r$ of $a$ divided by $b$ as\n",
    "```python\n",
    "q = a // b\n",
    "r = a % b\n",
    "```"
   ]
  },
  {
   "cell_type": "code",
   "execution_count": 7,
   "metadata": {},
   "outputs": [
    {
     "name": "stdout",
     "output_type": "stream",
     "text": [
      "53 = 6 * 8 + 5\n"
     ]
    }
   ],
   "source": [
    "def division_with_remainder(a, b):\n",
    "    q = a // b\n",
    "    r = a % b\n",
    "    return q, r\n",
    "\n",
    "a, b = 53, 8 #try changing these values!\n",
    "\n",
    "q, r = division_with_remainder(a, b)\n",
    "print('{} = {} * {} + {}'.format(a, q, b, r))"
   ]
  },
  {
   "cell_type": "markdown",
   "metadata": {},
   "source": [
    "### Greatest Common Divisor\n",
    "\n",
    "The **Greatest Common Divisor (gcd)** of two integers $a$ and $b$ is the largest *positive* factor that they have in common. \n",
    "\n",
    "For example, the divisors of 12 are [1, 2, 3, 4, 6, 12] and the divisors of 20 are [1, 2, 4, 5, 10, 20], so $ \\gcd(12, 20) = 4. $\n",
    "\n",
    "The most efficient way to calculate the greatest common divisor is with the Euclidean Algorithm.\n",
    "\n",
    "### Euclidean Algorithm\n",
    "\n",
    "The Euclidean Algorithm uses repeated division with remainder, replacing $a$ by $b$ and $b$ by $r$ until the remainder equals zero. For example, \n",
    "$$\\begin{align*}\n",
    "    53 &= 6 \\cdot 8 + 5 \\\\\n",
    "     8 &= 1 \\cdot 5 + 3 \\\\\n",
    "     5 &= 1 \\cdot 3 + 2 \\\\\n",
    "     3 &= 1 \\cdot 2 + 1 \\\\\n",
    "     2 &= 2 \\cdot 1 + 0\n",
    "\\end{align*}$$\n",
    "\n",
    "The relationship between the greatest common divisor and the Euclidean Algorithm relies on the following lemma."
   ]
  },
  {
   "cell_type": "markdown",
   "metadata": {},
   "source": [
    "___\n",
    "## Lemma\n",
    "If $a = q \\cdot b + r$, then $\\gcd(a, b) = \\gcd(b, r)$\n",
    "\n",
    "**proof:** If $d$ is a common divisor of $b$ and $r$, then $b = dx$ and $r = dy$, so \n",
    "$$\n",
    "    a = q(b) + r = q (dx) + dy = d( qx + y ),\n",
    "$$\n",
    "so $d$ is also divisor of $a$.\n",
    "\n",
    "Conversely, if $d$ is a common divisor of $a$ and $b$, then $a = dx$ and $b = dy$, so\n",
    "$$\n",
    "    r = a - q(b) = dx - q(dy) = d( x - qy ),\n",
    "$$\n",
    "so $d$ is also divisor of $r$.\n",
    "\n",
    "Therefore, the common divisors of $b$ and $r$ are exactly the same as the common divisors of $a$ and $b$.\n",
    "___"
   ]
  },
  {
   "cell_type": "markdown",
   "metadata": {},
   "source": [
    "In the example above, repeated application of this lemma shows that\n",
    "$$\n",
    "    \\gcd(53, 8) = \\gcd(8, 5) = \\gcd(5, 3) = \\gcd(3, 2) = \\gcd(2, 1) = 1.\n",
    "$$\n",
    "In general, the last non-zero remainder encountered in the Euclidean Algorithm is the greatest common divisor.\n",
    "\n",
    "The number of steps required for the Euclidean Algorithm is *less than 5 times the number of decimal digits min(a, b).*  The proof involves the Fibonacci sequence and can be found [here](https://en.wikipedia.org/wiki/Euclidean_algorithm#Worst-case).\n",
    "\n",
    "In the example above, repeated application of this Lemma shows that\n",
    "$$\n",
    "    \\gcd(53, 8) = \\gcd(8, 5) = \\gcd(5, 3) = \\gcd(3, 2) = \\gcd(2, 1) = 1.\n",
    "$$\n",
    "In general, the last non-zero remainder encountered in the Euclidean Algorithm is the greatest common divisor."
   ]
  },
  {
   "cell_type": "code",
   "execution_count": 11,
   "metadata": {},
   "outputs": [
    {
     "name": "stdout",
     "output_type": "stream",
     "text": [
      "53 = 6 * 8 + 5\n",
      "8 = 1 * 5 + 3\n",
      "5 = 1 * 3 + 2\n",
      "3 = 1 * 2 + 1\n",
      "2 = 2 * 1 + 0\n",
      "1\n"
     ]
    }
   ],
   "source": [
    "class EuclideanAlgorithm:\n",
    "    def __init__(self, a, b):\n",
    "        self.a = a\n",
    "        self.b = b\n",
    "        if b <= 0:\n",
    "            raise ValueError('b should be a positive integer.')\n",
    "        self.equations = self.populate()\n",
    "        self.gcd = self.get_gcd()\n",
    "        \n",
    "    def pretty_print(self):\n",
    "        for (a, q, b, r) in self.equations:\n",
    "            print('{} = {} * {} + {}'.format(a, q, b, r))\n",
    "    \n",
    "    def populate(self):\n",
    "        equations = []\n",
    "        a, b = self.a, self.b\n",
    "        while b != 0:\n",
    "            q, r = self.division_with_remainder(a, b)\n",
    "            equation = (a, q, b, r)\n",
    "            equations.append(equation)\n",
    "            a, b = b, r\n",
    "        return equations\n",
    "        \n",
    "    def division_with_remainder(self, a, b):\n",
    "        q = a // b\n",
    "        r = a % b\n",
    "        return q, r\n",
    "\n",
    "    def get_gcd(self):\n",
    "        return self.equations[-1][2]\n",
    "            \n",
    "a, b = 53, 8\n",
    "ea = EuclideanAlgorithm(a, b)\n",
    "ea.pretty_print()\n",
    "print(ea.gcd)\n"
   ]
  },
  {
   "cell_type": "markdown",
   "metadata": {
    "collapsed": true
   },
   "source": [
    "# Primes\n",
    "\n",
    "It's essential that two primes are used."
   ]
  },
  {
   "cell_type": "code",
   "execution_count": 9,
   "metadata": {},
   "outputs": [
    {
     "data": {
      "text/plain": [
       "'composite'"
      ]
     },
     "execution_count": 9,
     "metadata": {},
     "output_type": "execute_result"
    }
   ],
   "source": [
    "import math\n",
    "def naive_primality_test(num):\n",
    "    all_nums = [x for x in range(2, int(math.sqrt(num))+1)]\n",
    "    while all_nums:\n",
    "        sm = all_nums[0]\n",
    "        if num % sm == 0:\n",
    "            return 'composite'\n",
    "        else:\n",
    "            all_nums = [x for x in all_nums if x % sm != 0]\n",
    "    return 'prime'\n",
    "\n",
    "def sieve_of_eratosthenes(upper_bound):\n",
    "    primes = []\n",
    "    all_nums = [x for x in range(2, upper_bound)]\n",
    "    sm = all_nums[0]\n",
    "    while sm <= math.sqrt(upper_bound):\n",
    "        primes.append(sm)\n",
    "        all_nums = [x for x in all_nums if x % sm != 0]\n",
    "        sm = all_nums[0]\n",
    "    for n in all_nums:\n",
    "        primes.append(n)\n",
    "    return primes\n",
    "\n",
    "#len(sieve_of_eratosthenes(10000))\n",
    "naive_primality_test(549811)"
   ]
  },
  {
   "cell_type": "markdown",
   "metadata": {},
   "source": [
    "Fermat's Little Theorem:\n",
    "if $p$ is prime, then\n",
    "$a^{p-1} \\equiv 1 \\pmod{p}$ for any $a$ not divisible by $p$.\n",
    "\n",
    "This can be rephrased as: if $p$ is prime, then\n",
    "$a^p \\equiv a \\pmod{p}$ for any integer $a$.\n",
    "\n",
    "In other words, for a prime $p$, \n",
    "```\n",
    "a == pow(a, p, p)\n",
    "``` \n",
    "or \n",
    "```\n",
    "a == a**(p) % p\n",
    "```"
   ]
  },
  {
   "cell_type": "code",
   "execution_count": 5,
   "metadata": {},
   "outputs": [
    {
     "name": "stdout",
     "output_type": "stream",
     "text": [
      "541 is prime\n",
      "147 == 147**541 % 541\n",
      "146 == 146**541 % 541\n",
      "505 == 505**541 % 541\n",
      "295 == 295**541 % 541\n",
      "116 == 116**541 % 541\n",
      "529 == 529**541 % 541\n",
      "120 == 120**541 % 541\n",
      "291 == 291**541 % 541\n",
      "73 == 73**541 % 541\n",
      "481 == 481**541 % 541\n",
      "\n",
      "531 is composite\n",
      "467 == 326**531 % 531\n",
      "370 == 130**531 % 531\n",
      "17 == 428**531 % 531\n",
      "189 == 255**531 % 531\n",
      "451 == 313**531 % 531\n",
      "325 == 13**531 % 531\n",
      "494 == 104**531 % 531\n",
      "494 == 458**531 % 531\n",
      "406 == 232**531 % 531\n",
      "289 == 343**531 % 531\n"
     ]
    }
   ],
   "source": [
    "from random import randint\n",
    "p = 541                     #this is a known prime\n",
    "print('{} is prime'.format(p))\n",
    "for i in range(10):\n",
    "    a = randint(2,p-1)\n",
    "    print('{} == {}**{} % {}'.format(pow(a, p, p), a, p, p))\n",
    "    \n",
    "p = 531                     #this is a composite number\n",
    "print('\\n{} is composite'.format(p))\n",
    "for i in range(10):\n",
    "    a = randint(2,p-1)\n",
    "    print('{} == {}**{} % {}'.format(pow(a, p, p), a, p, p))"
   ]
  },
  {
   "cell_type": "markdown",
   "metadata": {},
   "source": [
    "We can use this theorem as a test to distinguish prime numbers from composite numbers.\n",
    "However, there are some composite numbers which exhibit this same behavior, so the test is unreliable.  \n",
    "\n",
    "For example, 561 is divisible by 3, so it is composite.  But it satisfies Fermat's Little Theorem, so this test would incorrectly identify 561 as a prime number."
   ]
  },
  {
   "cell_type": "code",
   "execution_count": 20,
   "metadata": {},
   "outputs": [
    {
     "name": "stdout",
     "output_type": "stream",
     "text": [
      "516 == 516**561 % 561\n",
      "43 == 43**561 % 561\n",
      "9 == 9**561 % 561\n",
      "446 == 446**561 % 561\n",
      "464 == 464**561 % 561\n",
      "451 == 451**561 % 561\n",
      "392 == 392**561 % 561\n",
      "179 == 179**561 % 561\n",
      "284 == 284**561 % 561\n",
      "466 == 466**561 % 561\n"
     ]
    }
   ],
   "source": [
    "p = 561\n",
    "for i in range(10):\n",
    "    a = randint(2,p-1)\n",
    "    print('{} == {}**{} % {}'.format(pow(a, p, p), a, p, p))"
   ]
  },
  {
   "cell_type": "markdown",
   "metadata": {},
   "source": [
    "Calculating $a^n \\pmod{n}$ for various $a$, if we ever get something besides $a$, we can conclude with absolute certainty that the number $n$ is not prime.\n",
    "\n",
    "But if $a^n \\pmod{n}$ is equal to $a$ for all checked values, the most we can conclude is that $n$ might be prime."
   ]
  },
  {
   "cell_type": "markdown",
   "metadata": {},
   "source": [
    "This is where we introduce another theorem that can be used to detect whether a number is prime or not.\n",
    "\n",
    "Lagrange's Theorem:\n",
    "If $p$ is prime, then a polynomial of degree $d$ has at most $d$ roots modulo $p$.  In other words, for a polynomial $p(x)$ with degree $d$, there are at most $d$ solutions to $p(x) = 0$.\n",
    "\n",
    "For example, the polynomial $x^4 - 1$ has degree 4.  Let's examine roots of this polynomial modulo various numbers.  If $m$ is our modulus, we are trying to solve\n",
    "```\n",
    "x**4 % m == 1\n",
    "```\n",
    "or\n",
    "```\n",
    "pow(x, 4, m) == 1\n",
    "```"
   ]
  },
  {
   "cell_type": "code",
   "execution_count": 35,
   "metadata": {},
   "outputs": [
    {
     "data": {
      "text/plain": [
       "[1, 70]"
      ]
     },
     "execution_count": 35,
     "metadata": {},
     "output_type": "execute_result"
    }
   ],
   "source": [
    "#First, for modulus m = 71 (a prime), there are 2 solutions.\n",
    "m = 71\n",
    "solutions = [x for x in range(m) if pow(x, 4, m) == 1]\n",
    "solutions"
   ]
  },
  {
   "cell_type": "code",
   "execution_count": 36,
   "metadata": {},
   "outputs": [
    {
     "data": {
      "text/plain": [
       "[1, 11, 50, 60]"
      ]
     },
     "execution_count": 36,
     "metadata": {},
     "output_type": "execute_result"
    }
   ],
   "source": [
    "#Second, for modulus m = 61 (a prime), there are 4 solutions.\n",
    "m = 61\n",
    "solutions = [x for x in range(m) if pow(x, 4, m) == 1]\n",
    "solutions"
   ]
  },
  {
   "cell_type": "code",
   "execution_count": 37,
   "metadata": {},
   "outputs": [
    {
     "data": {
      "text/plain": [
       "[1, 4, 13, 16, 35, 38, 47, 50]"
      ]
     },
     "execution_count": 37,
     "metadata": {},
     "output_type": "execute_result"
    }
   ],
   "source": [
    "#Last, for modulus m = 51 (not a prime), there are 8 solutions. \n",
    "m = 51\n",
    "solutions = [x for x in range(m) if pow(x, 4, m) == 1]\n",
    "solutions"
   ]
  },
  {
   "cell_type": "markdown",
   "metadata": {},
   "source": [
    "Lagrange's Theorem guarantees that for $m = 71$ and $m = 61$, which are both primes, there are at most 4 solutions, which checks out.\n",
    "\n",
    "The contrapositive of Lagrange's Theorem (which is logically equivalent), states that if a polynomial has more roots than its degree modulo some number $m$, then $m$ cannot be prime.  In our example, the fact that $x^4 - 1$ has 8 solutions modulo 51 proves that 51 is not prime.\n",
    "\n",
    "We can use this as a test for primality, but it is also imperfect.  There are some composite numbers $m$ and some polynomials $p(x)$ where the number of roots of $p(x)$ modulo $m$ is less than or equal to the degree of $p(x)$, even though $m$ isn't prime."
   ]
  },
  {
   "cell_type": "code",
   "execution_count": 38,
   "metadata": {},
   "outputs": [
    {
     "data": {
      "text/plain": [
       "[1, 16, 35, 50]"
      ]
     },
     "execution_count": 38,
     "metadata": {},
     "output_type": "execute_result"
    }
   ],
   "source": [
    "# For modulus m = 51 and polynomial x^6 - 1, there are 4 solutions.\n",
    "m = 51\n",
    "solutions = [x for x in range(m) if pow(x, 6, m) == 1]\n",
    "solutions"
   ]
  },
  {
   "cell_type": "markdown",
   "metadata": {},
   "source": [
    "The Miller-Rabin primality test, puts these two tests together in a clever way.  If we have a number $n$, which may be prime or composite,\n",
    "we want to choose a number $a$, which we call a witness; then\n",
    "1. Calculate $a^{n-1}$ modulo $n$ to see if we get 1.  If we don't, then Fermat's Little Theorem is violated, which proves that $n$ is composite.\n",
    "2. Along the way, we want to check if the polynomial $x^2 - 1$ has more than two roots.  If there are more than two roots, then $n$ is composite.  \n",
    "\n",
    "For the second step, the roots of the polynomial $x^2 - 1$ are the square roots of 1.  We use the specific knowledge that $1$ and $n-1$ are always square roots of 1, since \n",
    "```\n",
    "1**2 == 1\n",
    "(n-1)**2 % n == (-1)**2 % n == 1\n",
    "```\n",
    "so if we detect any other \"square root of 1\", we can conclude that $n$ is composite.\n",
    "\n",
    "If both tests are passed, then the witness $a$ did not detect that $n$ is composite, so $a$ thinks that $n$ is possibly prime.\n",
    "\n",
    "By choosing many witnesses, we can hope to identify primes with some level of confidence that they are actually prime.  If any witness finds a number to be composite, then the number is definitely composite.  But if every witness identifies $n$ as possibly prime, then we can only conclude that $n$ is probably prime.\n",
    "\n",
    "It has been proved that at most 25% of possible witnesses will incorrectly identify a composite as prime.  Therefore, if we choose $k$ witnesses for a number $n$ and each of the $k$ witnesses identifies $n$ as possibly prime, then the probability that all of the witnesses are incorrect is less than $(.25)^k$.  (For details, visit the wikipedia page for [Miller-Rabin primality test](https://en.wikipedia.org/wiki/Miller%E2%80%93Rabin_primality_test)."
   ]
  },
  {
   "cell_type": "code",
   "execution_count": 41,
   "metadata": {},
   "outputs": [
    {
     "name": "stdout",
     "output_type": "stream",
     "text": [
      "9.5367431640625e-07\n",
      "9.094947017729282e-13\n"
     ]
    }
   ],
   "source": [
    "# For k = 10, 20 witnesses, the probabilities of incorrectly \n",
    "# identifying a composite number as prime is at most\n",
    "print((.25)**10)\n",
    "print((.25)**20)"
   ]
  },
  {
   "cell_type": "markdown",
   "metadata": {},
   "source": [
    "## Miller-Rabin Primality Test\n"
   ]
  },
  {
   "cell_type": "code",
   "execution_count": 2,
   "metadata": {},
   "outputs": [],
   "source": [
    "# One-witness check\n",
    "def miller_rabin_witness(n, witness):\n",
    "    m = n-1\n",
    "    exp = 0\n",
    "    while m % 2 == 0:\n",
    "        m = m // 2\n",
    "        exp += 1\n",
    "    # n-1 == 2^exp * m and m is odd\n",
    "    \n",
    "    x = pow(witness, m, n) # witness**m % n\n",
    "    \n",
    "    if x == 1 or x == n-1:\n",
    "        return 'probably prime' # Fermat's Little Theorem is satisfied\n",
    "    \n",
    "    for i in range(exp):\n",
    "        x = pow(x, 2, n)\n",
    "        if x == n-1:\n",
    "            return 'probably prime' # Fermat's Little Theorem is satisfied\n",
    "        elif x == 1:\n",
    "            return 'composite' # Lagrange's Theorem is violated\n",
    "    \n",
    "    return 'composite' # Fermat's Little Theorem is violated"
   ]
  },
  {
   "cell_type": "code",
   "execution_count": 121,
   "metadata": {},
   "outputs": [],
   "source": [
    "# Can return tuple or generator\n",
    "def get_witnesses(n, num_witnesses):\n",
    "    if n < 2047:\n",
    "        return (2,)\n",
    "    elif n < 1373653:\n",
    "        return (2,3)\n",
    "    else:\n",
    "        return (randint(2, n-1) for i in range(num_witnesses))"
   ]
  },
  {
   "cell_type": "code",
   "execution_count": 122,
   "metadata": {},
   "outputs": [],
   "source": [
    "def miller_rabin_test(n, num_witnesses):\n",
    "    for witness in get_witnesses(n, num_witnesses):\n",
    "        primality = miller_rabin_witness(n, witness)\n",
    "        if primality == 'composite':\n",
    "            return 'composite'\n",
    "    return 'probably prime'\n",
    "\n",
    "next(get_witnesses(1373653345345)"
   ]
  },
  {
   "cell_type": "code",
   "execution_count": 127,
   "metadata": {},
   "outputs": [],
   "source": [
    "random_ints = []\n",
    "for i in range(20):\n",
    "    n = randint(2, 10**10)\n",
    "    n = n - 1 + (n % 2) # if it's odd we keep the same number, if it's even we subtract one! Keepin' it odd\n",
    "    random_ints.append(n)"
   ]
  },
  {
   "cell_type": "code",
   "execution_count": 125,
   "metadata": {},
   "outputs": [
    {
     "name": "stdout",
     "output_type": "stream",
     "text": [
      "3932654323 is composite\n",
      "650361913 is composite\n",
      "6054643629 is composite\n",
      "9107027603 is composite\n",
      "9395357743 is composite\n",
      "5787291891 is composite\n",
      "3205909823 is composite\n",
      "2017737619 is probably prime\n",
      "1674746821 is composite\n",
      "5064597395 is composite\n",
      "9128226497 is composite\n",
      "8175739187 is composite\n",
      "1701147121 is composite\n",
      "6078083279 is composite\n",
      "6908006633 is composite\n",
      "4352819983 is composite\n",
      "7270375397 is composite\n",
      "3972237361 is composite\n",
      "7468389677 is composite\n",
      "2820182955 is composite\n",
      "CPU times: user 2.61 ms, sys: 2.15 ms, total: 4.76 ms\n",
      "Wall time: 3.08 ms\n"
     ]
    }
   ],
   "source": [
    "%%time\n",
    "\n",
    "for number in random_ints:\n",
    "    print('{} is {}'.format(number, miller_rabin_test(number)))"
   ]
  },
  {
   "cell_type": "code",
   "execution_count": 126,
   "metadata": {},
   "outputs": [
    {
     "name": "stdout",
     "output_type": "stream",
     "text": [
      "3932654323 is composite\n",
      "650361913 is composite\n",
      "6054643629 is composite\n",
      "9107027603 is composite\n",
      "9395357743 is composite\n",
      "5787291891 is composite\n",
      "3205909823 is composite\n",
      "2017737619 is prime\n",
      "1674746821 is composite\n",
      "5064597395 is composite\n",
      "9128226497 is composite\n",
      "8175739187 is composite\n",
      "1701147121 is composite\n",
      "6078083279 is composite\n",
      "6908006633 is composite\n",
      "4352819983 is composite\n",
      "7270375397 is composite\n",
      "3972237361 is composite\n",
      "7468389677 is composite\n",
      "2820182955 is composite\n",
      "CPU times: user 3.75 s, sys: 34.6 ms, total: 3.79 s\n",
      "Wall time: 3.79 s\n"
     ]
    }
   ],
   "source": [
    "%%time\n",
    "\n",
    "for number in random_ints:\n",
    "    print('{} is {}'.format(number, naive_primality_test(number)))"
   ]
  },
  {
   "cell_type": "code",
   "execution_count": 70,
   "metadata": {},
   "outputs": [
    {
     "name": "stdout",
     "output_type": "stream",
     "text": [
      "CPU times: user 2.05 s, sys: 104 ms, total: 2.16 s\n",
      "Wall time: 2.16 s\n"
     ]
    }
   ],
   "source": [
    "%%time\n",
    "\n",
    "primes_soe = sieve_of_eratosthenes(1000000)"
   ]
  },
  {
   "cell_type": "code",
   "execution_count": 82,
   "metadata": {},
   "outputs": [
    {
     "name": "stdout",
     "output_type": "stream",
     "text": [
      "CPU times: user 1.08 ms, sys: 220 µs, total: 1.3 ms\n",
      "Wall time: 1.31 ms\n"
     ]
    }
   ],
   "source": [
    "%%time\n",
    "primes_mr = (n for n in range(2,1000000) if n == 2 or ((n % 2 != 0) and miller_rabin_test(n) == 'probably prime'))"
   ]
  },
  {
   "cell_type": "markdown",
   "metadata": {},
   "source": [
    "## Evaluate"
   ]
  },
  {
   "cell_type": "code",
   "execution_count": 103,
   "metadata": {},
   "outputs": [
    {
     "name": "stdout",
     "output_type": "stream",
     "text": [
      "CPU times: user 5 µs, sys: 1e+03 ns, total: 6 µs\n",
      "Wall time: 9.06 µs\n"
     ]
    },
    {
     "data": {
      "text/plain": [
       "131"
      ]
     },
     "execution_count": 103,
     "metadata": {},
     "output_type": "execute_result"
    }
   ],
   "source": [
    "%%time\n",
    "len(str(17113129348712983749128734918273498127349817239487129384712983479128374918273498127349812734981723948712938471298347912837491287341))"
   ]
  },
  {
   "cell_type": "code",
   "execution_count": 1,
   "metadata": {},
   "outputs": [
    {
     "data": {
      "text/plain": [
       "221"
      ]
     },
     "execution_count": 1,
     "metadata": {},
     "output_type": "execute_result"
    }
   ],
   "source": [
    "p, q = 13, 17\n",
    "m = p * q\n",
    "m"
   ]
  },
  {
   "cell_type": "markdown",
   "metadata": {},
   "source": [
    "\n",
    "\n",
    "\n",
    "- Specify bits or number of digits for prime generator\n",
    "- write prime generator w tricks!\n",
    "- write public directory\n",
    "- encrypt something with RSA, decrypt, show what these look like.\n"
   ]
  },
  {
   "cell_type": "code",
   "execution_count": null,
   "metadata": {
    "collapsed": true
   },
   "outputs": [],
   "source": []
  },
  {
   "cell_type": "code",
   "execution_count": 124,
   "metadata": {},
   "outputs": [
    {
     "data": {
      "text/plain": [
       "1"
      ]
     },
     "execution_count": 124,
     "metadata": {},
     "output_type": "execute_result"
    }
   ],
   "source": [
    "from random import random\n",
    "def random_int(a, b):\n",
    "    return int(random()*(b - a + 1) + a)\n",
    "\n",
    "from random import sample\n",
    "def random_int_2(a, b):\n",
    "    return sample(range(a, b), 1)[0]\n",
    "random_int_2(1,2)\n"
   ]
  }
 ],
 "metadata": {
  "kernelspec": {
   "display_name": "Python [conda root]",
   "language": "python",
   "name": "conda-root-py"
  },
  "language_info": {
   "codemirror_mode": {
    "name": "ipython",
    "version": 3
   },
   "file_extension": ".py",
   "mimetype": "text/x-python",
   "name": "python",
   "nbconvert_exporter": "python",
   "pygments_lexer": "ipython3",
   "version": "3.6.1"
  }
 },
 "nbformat": 4,
 "nbformat_minor": 2
}
