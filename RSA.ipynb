{
 "cells": [
  {
   "cell_type": "markdown",
   "metadata": {},
   "source": [
    "# Introduction to RSA (Rivest, Shamir, Adleman)\n",
    "\n",
    "RSA is an encryption algorithm that uses number theoretic identities for asymmetrical encryption."
   ]
  },
  {
   "cell_type": "markdown",
   "metadata": {},
   "source": [
    "### Division Algorithm\n",
    "\n",
    "The basis for many algorithms in Number Theory is division with remainder.  For example, considering the number 53 and 8, division gives a **quotient** of 6 and a **remainder** of 5, which we express by\n",
    "$$ \n",
    "    53 = 6 \\cdot 8 + 5. \n",
    "$$\n",
    "For any two positive integers $a$ and $b$, there exists a unique quotient $q$ and remainder $r$ such that\n",
    "$$ \n",
    "    a = q \\cdot b + r\n",
    "    \\quad \\text{and} \\quad\n",
    "    0 \\le r < b. \n",
    "$$\n",
    "In other words, when we divide $a$ by $b$, we get a quotient $q$ and a remainder $r$ which is necessarily smaller than the divisor $b$.  If the remainder is equal to 0, then $a$ is divisible by $b$; equivalently, $b$ is a factor of $a$.\n",
    "\n",
    "In python 3, we compute the quotient $q$ and the remainder $r$ of $a$ divided by $b$ as\n",
    "```python\n",
    "q = a // b\n",
    "r = a % b\n",
    "```"
   ]
  },
  {
   "cell_type": "code",
   "execution_count": 7,
   "metadata": {},
   "outputs": [
    {
     "name": "stdout",
     "output_type": "stream",
     "text": [
      "53 = 6 * 8 + 5\n"
     ]
    }
   ],
   "source": [
    "def division_with_remainder(a, b):\n",
    "    q = a // b\n",
    "    r = a % b\n",
    "    return q, r\n",
    "\n",
    "a, b = 53, 8 #try changing these values!\n",
    "\n",
    "q, r = division_with_remainder(a, b)\n",
    "print('{} = {} * {} + {}'.format(a, q, b, r))"
   ]
  },
  {
   "cell_type": "markdown",
   "metadata": {},
   "source": [
    "### Greatest Common Divisor\n",
    "\n",
    "The **Greatest Common Divisor (gcd)** of two integers $a$ and $b$ is the largest *positive* factor that they have in common. \n",
    "\n",
    "For example, the divisors of 12 are [1, 2, 3, 4, 6, 12] and the divisors of 20 are [1, 2, 4, 5, 10, 20], so $ \\gcd(12, 20) = 4. $\n",
    "\n",
    "The most efficient way to calculate the greatest common divisor is with the Euclidean Algorithm.\n",
    "\n",
    "### Euclidean Algorithm\n",
    "\n",
    "The Euclidean Algorithm uses repeated division with remainder, replacing $a$ by $b$ and $b$ by $r$ until the remainder equals zero. For example, \n",
    "$$\\begin{align*}\n",
    "    53 &= 6 \\cdot 8 + 5 \\\\\n",
    "     8 &= 1 \\cdot 5 + 3 \\\\\n",
    "     5 &= 1 \\cdot 3 + 2 \\\\\n",
    "     3 &= 1 \\cdot 2 + 1 \\\\\n",
    "     2 &= 2 \\cdot 1 + 0\n",
    "\\end{align*}$$\n",
    "\n",
    "The relationship between the greatest common divisor and the Euclidean Algorithm relies on the following lemma."
   ]
  },
  {
   "cell_type": "markdown",
   "metadata": {},
   "source": [
    "___\n",
    "## Lemma\n",
    "If $a = q \\cdot b + r$, then $\\gcd(a, b) = \\gcd(b, r)$\n",
    "\n",
    "**proof:** If $d$ is a common divisor of $b$ and $r$, then $b = dx$ and $r = dy$, so \n",
    "$$\n",
    "    a = q(b) + r = q (dx) + dy = d( qx + y ),\n",
    "$$\n",
    "so $d$ is also divisor of $a$.\n",
    "\n",
    "Conversely, if $d$ is a common divisor of $a$ and $b$, then $a = dx$ and $b = dy$, so\n",
    "$$\n",
    "    r = a - q(b) = dx - q(dy) = d( x - qy ),\n",
    "$$\n",
    "so $d$ is also divisor of $r$.\n",
    "\n",
    "Therefore, the common divisors of $b$ and $r$ are exactly the same as the common divisors of $a$ and $b$.\n",
    "___"
   ]
  },
  {
   "cell_type": "markdown",
   "metadata": {},
   "source": [
    "In the example above, repeated application of this lemma shows that\n",
    "$$\n",
    "    \\gcd(53, 8) = \\gcd(8, 5) = \\gcd(5, 3) = \\gcd(3, 2) = \\gcd(2, 1) = 1.\n",
    "$$\n",
    "In general, the last non-zero remainder encountered in the Euclidean Algorithm is the greatest common divisor.\n",
    "\n",
    "The number of steps required for the Euclidean Algorithm is *less than 5 times the number of decimal digits min(a, b).*  The proof involves the Fibonacci sequence and can be found [here](https://en.wikipedia.org/wiki/Euclidean_algorithm#Worst-case).\n",
    "\n",
    "In the example above, repeated application of this Lemma shows that\n",
    "$$\n",
    "    \\gcd(53, 8) = \\gcd(8, 5) = \\gcd(5, 3) = \\gcd(3, 2) = \\gcd(2, 1) = 1.\n",
    "$$\n",
    "In general, the last non-zero remainder encountered in the Euclidean Algorithm is the greatest common divisor."
   ]
  },
  {
   "cell_type": "code",
   "execution_count": 11,
   "metadata": {},
   "outputs": [
    {
     "name": "stdout",
     "output_type": "stream",
     "text": [
      "53 = 6 * 8 + 5\n",
      "8 = 1 * 5 + 3\n",
      "5 = 1 * 3 + 2\n",
      "3 = 1 * 2 + 1\n",
      "2 = 2 * 1 + 0\n",
      "1\n"
     ]
    }
   ],
   "source": [
    "class EuclideanAlgorithm:\n",
    "    def __init__(self, a, b):\n",
    "        self.a = a\n",
    "        self.b = b\n",
    "        if b <= 0:\n",
    "            raise ValueError('b should be a positive integer.')\n",
    "        self.equations = self.populate()\n",
    "        self.gcd = self.get_gcd()\n",
    "        \n",
    "    def pretty_print(self):\n",
    "        for (a, q, b, r) in self.equations:\n",
    "            print('{} = {} * {} + {}'.format(a, q, b, r))\n",
    "    \n",
    "    def populate(self):\n",
    "        equations = []\n",
    "        a, b = self.a, self.b\n",
    "        while b != 0:\n",
    "            q, r = self.division_with_remainder(a, b)\n",
    "            equation = (a, q, b, r)\n",
    "            equations.append(equation)\n",
    "            a, b = b, r\n",
    "        return equations\n",
    "        \n",
    "    def division_with_remainder(self, a, b):\n",
    "        q = a // b\n",
    "        r = a % b\n",
    "        return q, r\n",
    "\n",
    "    def get_gcd(self):\n",
    "        return self.equations[-1][2]\n",
    "            \n",
    "a, b = 53, 8\n",
    "ea = EuclideanAlgorithm(a, b)\n",
    "ea.pretty_print()\n",
    "print(ea.gcd)\n"
   ]
  },
  {
   "cell_type": "code",
   "execution_count": null,
   "metadata": {
    "collapsed": true
   },
   "outputs": [],
   "source": []
  }
 ],
 "metadata": {
  "kernelspec": {
   "display_name": "Python [conda root]",
   "language": "python",
   "name": "conda-root-py"
  },
  "language_info": {
   "codemirror_mode": {
    "name": "ipython",
    "version": 3
   },
   "file_extension": ".py",
   "mimetype": "text/x-python",
   "name": "python",
   "nbconvert_exporter": "python",
   "pygments_lexer": "ipython3",
   "version": "3.6.1"
  }
 },
 "nbformat": 4,
 "nbformat_minor": 2
}
